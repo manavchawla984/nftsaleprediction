{
 "cells": [
  {
   "cell_type": "code",
   "execution_count": 5,
   "metadata": {},
   "outputs": [
    {
     "ename": "ModuleNotFoundError",
     "evalue": "No module named 'key'",
     "output_type": "error",
     "traceback": [
      "\u001b[1;31m---------------------------------------------------------------------------\u001b[0m",
      "\u001b[1;31mModuleNotFoundError\u001b[0m                       Traceback (most recent call last)",
      "\u001b[1;32m<ipython-input-5-24b14ae0e7ec>\u001b[0m in \u001b[0;36m<module>\u001b[1;34m\u001b[0m\n\u001b[1;32m----> 1\u001b[1;33m \u001b[1;32mimport\u001b[0m \u001b[0mkey\u001b[0m\u001b[1;33m\u001b[0m\u001b[1;33m\u001b[0m\u001b[0m\n\u001b[0m",
      "\u001b[1;31mModuleNotFoundError\u001b[0m: No module named 'key'"
     ]
    }
   ],
   "source": [
    "import key"
   ]
  },
  {
   "cell_type": "code",
   "execution_count": 2,
   "metadata": {
    "ExecuteTime": {
     "end_time": "2021-06-30T01:02:57.069543Z",
     "start_time": "2021-06-30T01:02:57.059347Z"
    },
    "scrolled": true
   },
   "outputs": [
    {
     "ename": "ModuleNotFoundError",
     "evalue": "No module named 'key'",
     "output_type": "error",
     "traceback": [
      "\u001b[1;31m---------------------------------------------------------------------------\u001b[0m",
      "\u001b[1;31mModuleNotFoundError\u001b[0m                       Traceback (most recent call last)",
      "\u001b[1;32m<ipython-input-2-6dfd04e19096>\u001b[0m in \u001b[0;36m<module>\u001b[1;34m\u001b[0m\n\u001b[0;32m      4\u001b[0m \u001b[1;33m\u001b[0m\u001b[0m\n\u001b[0;32m      5\u001b[0m \u001b[1;32mimport\u001b[0m \u001b[0mrequests\u001b[0m\u001b[1;33m\u001b[0m\u001b[1;33m\u001b[0m\u001b[0m\n\u001b[1;32m----> 6\u001b[1;33m \u001b[1;32mfrom\u001b[0m \u001b[0mkey\u001b[0m \u001b[1;32mimport\u001b[0m \u001b[0mopensea_key\u001b[0m\u001b[1;33m\u001b[0m\u001b[1;33m\u001b[0m\u001b[0m\n\u001b[0m\u001b[0;32m      7\u001b[0m \u001b[1;32mfrom\u001b[0m \u001b[0mpandas\u001b[0m\u001b[1;33m.\u001b[0m\u001b[0mio\u001b[0m\u001b[1;33m.\u001b[0m\u001b[0mjson\u001b[0m \u001b[1;32mimport\u001b[0m \u001b[0mjson_normalize\u001b[0m\u001b[1;33m\u001b[0m\u001b[1;33m\u001b[0m\u001b[0m\n\u001b[0;32m      8\u001b[0m \u001b[1;31m# pd.options.display.max_columns = None\u001b[0m\u001b[1;33m\u001b[0m\u001b[1;33m\u001b[0m\u001b[1;33m\u001b[0m\u001b[0m\n",
      "\u001b[1;31mModuleNotFoundError\u001b[0m: No module named 'key'"
     ]
    }
   ],
   "source": [
    "import pandas as pd\n",
    "import matplotlib as plt\n",
    "%matplotlib inline\n",
    "\n",
    "import requests\n",
    "from key import opensea_key\n",
    "from pandas.io.json import json_normalize\n",
    "# pd.options.display.max_columns = None\n",
    "# pd.options.display.max_rows = None"
   ]
  },
  {
   "cell_type": "code",
   "execution_count": null,
   "metadata": {
    "ExecuteTime": {
     "end_time": "2021-06-30T02:37:23.608182Z",
     "start_time": "2021-06-30T02:13:14.426639Z"
    },
    "scrolled": true
   },
   "outputs": [],
   "source": [
    "#initial grab of assets, no parameters\n",
    "print('***************************************')\n",
    "print('assets_1: initial import, no parameters')\n",
    "print('***************************************')\n",
    "list_of_asset_dfs_1 = []\n",
    "for offset in range(0,10050,50):\n",
    "    url = \"https://api.opensea.io/api/v1/assets\"\n",
    "    querystring = {\"offset\":f\"{offset}\",\"limit\":\"50\"}\n",
    "    headers = {\"X-API-KEY\": opensea_key}\n",
    "    response = requests.request(\"GET\", url, headers=headers, params=querystring)\n",
    "    json = response.json()\n",
    "    df = json_normalize(json['assets'], max_level=4)\n",
    "    list_of_asset_dfs_1.append(df)\n",
    "    print(f\"Offset is {offset} and {len(df)} assets added\")\n",
    "assets_1 = pd.concat([df for df in list_of_asset_dfs_1], ignore_index = True, sort=False)\n",
    "print(\"\")\n",
    "print(\"\")\n",
    "\n",
    "\n",
    "#another pull with no assets to see if there is significant overlap\n",
    "print(\"\")\n",
    "print('**************************************')\n",
    "print('assets_2: second import, no parameters')\n",
    "print('**************************************')\n",
    "list_of_asset_dfs_2 = []\n",
    "for offset in range(0,10050,50):\n",
    "    url = \"https://api.opensea.io/api/v1/assets\"\n",
    "    querystring = {\"offset\":f\"{offset}\",\"limit\":\"50\"}\n",
    "    headers = {\"X-API-KEY\": opensea_key}\n",
    "    response = requests.request(\"GET\", url, headers=headers, params=querystring)\n",
    "    json = response.json()\n",
    "    df = json_normalize(json['assets'], max_level=4)\n",
    "    list_of_asset_dfs_2.append(df)\n",
    "    print(f\"Offset is {offset} and {len(df)} assets added\")\n",
    "assets_2 = pd.concat([df for df in list_of_asset_dfs_2], ignore_index = True, sort=False)\n",
    "print(\"\")\n",
    "print(\"\")\n",
    "\n",
    "\n",
    "#as per API instructions, using the \"current_escrow_price\" ordering to include \n",
    "#secondary sales market and cryptokitties\n",
    "print(\"\")\n",
    "print('********************************************')\n",
    "print('assets_3: sort by current_escrow_price, desc')\n",
    "list_of_asset_dfs_3 = []\n",
    "for offset in range(0,10050,50):\n",
    "    url = \"https://api.opensea.io/api/v1/assets\"\n",
    "    querystring = {\"order_by\":\"current_escrow_price\",\"order_direction\":\"desc\", \"offset\":f\"{offset}\",\"limit\":\"50\"}\n",
    "    headers = {\"X-API-KEY\": opensea_key}\n",
    "    response = requests.request(\"GET\", url, headers=headers, params=querystring)\n",
    "    json = response.json()\n",
    "    df = json_normalize(json['assets'], max_level=4)\n",
    "    list_of_asset_dfs_3.append(df)\n",
    "    print(f\"Offset is {offset} and {len(df)} assets added\")\n",
    "assets_3 = pd.concat([df for df in list_of_asset_dfs_3], ignore_index = True, sort=False)\n",
    "print(\"\")\n",
    "print(\"\")\n",
    "\n",
    "\n",
    "print(\"\")\n",
    "print('*******************************************')\n",
    "print('assets_4: sort by current_escrow_price, asc')\n",
    "print('*******************************************')\n",
    "list_of_asset_dfs_4 = []\n",
    "for offset in range(0,10050,50):\n",
    "    url = \"https://api.opensea.io/api/v1/assets\"\n",
    "    querystring = {\"order_by\":\"current_escrow_price\",\"order_direction\":\"asc\", \"offset\":f\"{offset}\",\"limit\":\"50\"}\n",
    "    headers = {\"X-API-KEY\": opensea_key}\n",
    "    response = requests.request(\"GET\", url, headers=headers, params=querystring)\n",
    "    json = response.json()\n",
    "    df = json_normalize(json['assets'], max_level=4)\n",
    "    list_of_asset_dfs_4.append(df)\n",
    "    print(f\"Offset is {offset} and {len(df)} assets added\")\n",
    "assets_4 = pd.concat([df for df in list_of_asset_dfs_4], ignore_index = True, sort=False)\n",
    "print(\"\")\n",
    "print(\"\")\n",
    "\n",
    "\n",
    "print(\"\")\n",
    "print('*************************************')\n",
    "print('assets_5: sort by visitor_count, desc')\n",
    "print('*************************************')\n",
    "list_of_asset_dfs_5 = []\n",
    "for offset in range(0,10050,50):\n",
    "    url = \"https://api.opensea.io/api/v1/assets\"\n",
    "    querystring = {\"order_by\":\"visitor_count\",\"order_direction\":\"desc\", \"offset\":f\"{offset}\",\"limit\":\"50\"}\n",
    "    headers = {\"X-API-KEY\": opensea_key}\n",
    "    response = requests.request(\"GET\", url, headers=headers, params=querystring)\n",
    "    json = response.json()\n",
    "    df = json_normalize(json['assets'], max_level=4)\n",
    "    list_of_asset_dfs_5.append(df)\n",
    "    print(f\"Offset is {offset} and {len(df)} assets added\")\n",
    "assets_5 = pd.concat([df for df in list_of_asset_dfs_5], ignore_index = True, sort=False)\n",
    "print(\"\")\n",
    "print(\"\")\n",
    "\n",
    "\n",
    "print(\"\")\n",
    "print('************************************')\n",
    "print('assets_6: sort by visitor_count, asc')\n",
    "print('************************************')\n",
    "list_of_asset_dfs_6 = []\n",
    "for offset in range(0,10050,50):\n",
    "    url = \"https://api.opensea.io/api/v1/assets\"\n",
    "    querystring = {\"order_by\":\"visitor_count\",\"order_direction\":\"asc\", \"offset\":f\"{offset}\",\"limit\":\"50\"}\n",
    "    headers = {\"X-API-KEY\": opensea_key}\n",
    "    response = requests.request(\"GET\", url, headers=headers, params=querystring)\n",
    "    json = response.json()\n",
    "    df = json_normalize(json['assets'], max_level=4)\n",
    "    list_of_asset_dfs_6.append(df)\n",
    "    print(f\"Offset is {offset} and {len(df)} assets added\")\n",
    "assets_6 = pd.concat([df for df in list_of_asset_dfs_6], ignore_index = True, sort=False)\n",
    "print(\"\")\n",
    "print(\"\")\n",
    "\n",
    "\n",
    "print(\"\")\n",
    "print('**********************************')\n",
    "print('assets_7: sort by sale_count, desc')\n",
    "print('**********************************')\n",
    "list_of_asset_dfs_7 = []\n",
    "for offset in range(0,10050,50):\n",
    "    url = \"https://api.opensea.io/api/v1/assets\"\n",
    "    querystring = {\"order_by\":\"sale_count\",\"order_direction\":\"desc\", \"offset\":f\"{offset}\",\"limit\":\"50\"}\n",
    "    headers = {\"X-API-KEY\": opensea_key}\n",
    "    response = requests.request(\"GET\", url, headers=headers, params=querystring)\n",
    "    json = response.json()\n",
    "    df = json_normalize(json['assets'], max_level=4)\n",
    "    list_of_asset_dfs_7.append(df)\n",
    "    print(f\"Offset is {offset} and {len(df)} assets added\")\n",
    "assets_7 = pd.concat([df for df in list_of_asset_dfs_7], ignore_index = True, sort=False)\n",
    "print(\"\")\n",
    "print(\"\")\n",
    "\n",
    "\n",
    "print(\"\")\n",
    "print('**********************************')\n",
    "print('assets_8: sort by sale_price, desc')\n",
    "print('**********************************')\n",
    "list_of_asset_dfs_8 = []\n",
    "for offset in range(0,10050,50):\n",
    "    url = \"https://api.opensea.io/api/v1/assets\"\n",
    "    querystring = {\"order_by\":\"sale_count\",\"order_direction\":\"desc\", \"offset\":f\"{offset}\",\"limit\":\"50\"}\n",
    "    headers = {\"X-API-KEY\": opensea_key}\n",
    "    response = requests.request(\"GET\", url, headers=headers, params=querystring)\n",
    "    json = response.json()\n",
    "    df = json_normalize(json['assets'], max_level=4)\n",
    "    list_of_asset_dfs_8.append(df)\n",
    "    print(f\"Offset is {offset} and {len(df)} assets added\")\n",
    "assets_8 = pd.concat([df for df in list_of_asset_dfs_8], ignore_index = True, sort=False)\n",
    "print(\"\")\n",
    "print(\"\")\n",
    "\n",
    "\n",
    "print(\"\")\n",
    "print('****************************')\n",
    "print('assets_9: listing_date, desc')\n",
    "print('****************************')\n",
    "list_of_asset_dfs_9 = []\n",
    "for offset in range(0,10050,50):\n",
    "    url = \"https://api.opensea.io/api/v1/assets\"\n",
    "    querystring = {\"order_by\":\"listing_date\",\"order_direction\":\"desc\", \"offset\":f\"{offset}\",\"limit\":\"50\"}\n",
    "    headers = {\"X-API-KEY\": opensea_key}\n",
    "    response = requests.request(\"GET\", url, headers=headers, params=querystring)\n",
    "    json = response.json()\n",
    "    df = json_normalize(json['assets'], max_level=4)\n",
    "    list_of_asset_dfs_9.append(df)\n",
    "    print(f\"Offset is {offset} and {len(df)} assets added\")\n",
    "assets_9 = pd.concat([df for df in list_of_asset_dfs_9], ignore_index = True, sort=False)\n",
    "print(\"\")\n",
    "print(\"\")\n",
    "\n",
    "\n",
    "print(\"\")\n",
    "print('*****************************')\n",
    "print('assets_10: listing_date, desc')\n",
    "print('*****************************')\n",
    "list_of_asset_dfs_10 = []\n",
    "for offset in range(0,10050,50):\n",
    "    url = \"https://api.opensea.io/api/v1/assets\"\n",
    "    querystring = {\"order_by\":\"listing_date\",\"order_direction\":\"desc\", \"offset\":f\"{offset}\",\"limit\":\"50\"}\n",
    "    headers = {\"X-API-KEY\": opensea_key}\n",
    "    response = requests.request(\"GET\", url, headers=headers, params=querystring)\n",
    "    json = response.json()\n",
    "    df = json_normalize(json['assets'], max_level=4)\n",
    "    list_of_asset_dfs_10.append(df)\n",
    "    print(f\"Offset is {offset} and {len(df)} assets added\")\n",
    "assets_10 = pd.concat([df for df in list_of_asset_dfs_10], ignore_index = True, sort=False)\n",
    "print(\"\")\n",
    "print(\"\")"
   ]
  },
  {
   "cell_type": "code",
   "execution_count": null,
   "metadata": {
    "ExecuteTime": {
     "end_time": "2021-06-30T02:47:17.590360Z",
     "start_time": "2021-06-30T02:47:14.629004Z"
    }
   },
   "outputs": [],
   "source": [
    "assets = pd.concat([assets_1, assets_2, assets_3, assets_4,\n",
    "                    assets_5, assets_6, assets_7, assets_8, \n",
    "                    assets_9, assets_10], ignore_index=True, sort=False)"
   ]
  },
  {
   "cell_type": "code",
   "execution_count": null,
   "metadata": {
    "ExecuteTime": {
     "end_time": "2021-06-30T03:28:18.685546Z",
     "start_time": "2021-06-30T03:28:18.460942Z"
    }
   },
   "outputs": [],
   "source": [
    "print(f\"assets_1: {assets_1['id'].nunique()}\")\n",
    "print(f\"assets_2: {assets_2['id'].nunique()}\")\n",
    "print(f\"assets_3: {assets_3['id'].nunique()}\")\n",
    "print(f\"assets_4: {assets_4['id'].nunique()}\")\n",
    "print(f\"assets_5: {assets_5['id'].nunique()}\")\n",
    "print(f\"assets_6: {assets_6['id'].nunique()}\")\n",
    "print(f\"assets_7: {assets_7['id'].nunique()}\")\n",
    "print(f\"assets_8: {assets_8['id'].nunique()}\")\n",
    "print(f\"assets_9: {assets_9['id'].nunique()}\")\n",
    "print(f\"assets_10: {assets_10['id'].nunique()}\")\n",
    "print(f\"total unique assets: {assets['id'].nunique()}\")"
   ]
  },
  {
   "cell_type": "code",
   "execution_count": null,
   "metadata": {
    "ExecuteTime": {
     "end_time": "2021-06-30T02:57:25.315842Z",
     "start_time": "2021-06-30T02:57:24.714866Z"
    }
   },
   "outputs": [],
   "source": [
    "assets_1['asset_contract.created_date'].astype(\"datetime64\").dt.year.hist()\n",
    "assets_2['asset_contract.created_date'].astype(\"datetime64\").dt.year.hist()\n",
    "assets_3['asset_contract.created_date'].astype(\"datetime64\").dt.year.hist()\n",
    "assets_4['asset_contract.created_date'].astype(\"datetime64\").dt.year.hist()\n",
    "assets_5['asset_contract.created_date'].astype(\"datetime64\").dt.year.hist()\n",
    "assets_6['asset_contract.created_date'].astype(\"datetime64\").dt.year.hist()\n",
    "assets_7['asset_contract.created_date'].astype(\"datetime64\").dt.year.hist()\n",
    "assets_8['asset_contract.created_date'].astype(\"datetime64\").dt.year.hist()\n",
    "assets_9['asset_contract.created_date'].astype(\"datetime64\").dt.year.hist()\n",
    "assets_10['asset_contract.created_date'].astype(\"datetime64\").dt.year.hist()"
   ]
  },
  {
   "cell_type": "code",
   "execution_count": null,
   "metadata": {
    "ExecuteTime": {
     "end_time": "2021-06-30T02:58:40.339710Z",
     "start_time": "2021-06-30T02:58:39.984473Z"
    },
    "scrolled": true
   },
   "outputs": [],
   "source": [
    "assets['asset_contract.created_date'].astype(\"datetime64\").dt.year.hist()"
   ]
  },
  {
   "cell_type": "code",
   "execution_count": null,
   "metadata": {
    "ExecuteTime": {
     "end_time": "2021-06-30T03:37:07.446449Z",
     "start_time": "2021-06-30T03:37:07.382960Z"
    }
   },
   "outputs": [],
   "source": [
    "print(f\"{assets['id'].nunique()} unique ids: \")\n",
    "print(f\"{assets['token_id'].nunique()} unique token_ids\")"
   ]
  },
  {
   "cell_type": "code",
   "execution_count": null,
   "metadata": {
    "ExecuteTime": {
     "end_time": "2021-06-30T03:39:02.229640Z",
     "start_time": "2021-06-30T03:39:01.354532Z"
    }
   },
   "outputs": [],
   "source": [
    "df = assets.drop_duplicates(subset=['token_id'])"
   ]
  },
  {
   "cell_type": "code",
   "execution_count": null,
   "metadata": {
    "ExecuteTime": {
     "end_time": "2021-06-30T03:39:06.230154Z",
     "start_time": "2021-06-30T03:39:06.187878Z"
    }
   },
   "outputs": [],
   "source": [
    "print(f\"{df['id'].nunique()} unique ids: \")\n",
    "print(f\"{df['token_id'].nunique()} unique token_ids\")"
   ]
  },
  {
   "cell_type": "code",
   "execution_count": null,
   "metadata": {
    "ExecuteTime": {
     "end_time": "2021-06-30T03:39:47.571675Z",
     "start_time": "2021-06-30T03:39:47.036945Z"
    }
   },
   "outputs": [],
   "source": [
    "df['asset_contract.created_date'].astype(\"datetime64\").dt.year.hist()"
   ]
  },
  {
   "cell_type": "code",
   "execution_count": null,
   "metadata": {
    "ExecuteTime": {
     "end_time": "2021-06-30T03:42:39.311694Z",
     "start_time": "2021-06-30T03:42:31.591587Z"
    }
   },
   "outputs": [],
   "source": [
    "df.to_csv('../data/1_data_initial.csv', index=False)"
   ]
  },
  {
   "cell_type": "code",
   "execution_count": null,
   "metadata": {},
   "outputs": [],
   "source": []
  },
  {
   "cell_type": "code",
   "execution_count": null,
   "metadata": {},
   "outputs": [],
   "source": []
  },
  {
   "cell_type": "code",
   "execution_count": null,
   "metadata": {},
   "outputs": [],
   "source": []
  }
 ],
 "metadata": {
  "kernelspec": {
   "display_name": "Python 3",
   "language": "python",
   "name": "python3"
  },
  "language_info": {
   "codemirror_mode": {
    "name": "ipython",
    "version": 3
   },
   "file_extension": ".py",
   "mimetype": "text/x-python",
   "name": "python",
   "nbconvert_exporter": "python",
   "pygments_lexer": "ipython3",
   "version": "3.8.8"
  },
  "toc": {
   "base_numbering": 1,
   "nav_menu": {},
   "number_sections": true,
   "sideBar": true,
   "skip_h1_title": false,
   "title_cell": "Table of Contents",
   "title_sidebar": "Contents",
   "toc_cell": false,
   "toc_position": {},
   "toc_section_display": true,
   "toc_window_display": false
  }
 },
 "nbformat": 4,
 "nbformat_minor": 4
}
